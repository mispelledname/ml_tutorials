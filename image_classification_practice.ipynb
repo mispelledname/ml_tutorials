{
  "nbformat": 4,
  "nbformat_minor": 0,
  "metadata": {
    "colab": {
      "name": "image_classification_practice.ipynb",
      "provenance": [],
      "authorship_tag": "ABX9TyN3aByCDjQ70BLB3wvjHRaE",
      "include_colab_link": true
    },
    "kernelspec": {
      "name": "python3",
      "display_name": "Python 3"
    }
  },
  "cells": [
    {
      "cell_type": "markdown",
      "metadata": {
        "id": "view-in-github",
        "colab_type": "text"
      },
      "source": [
        "<a href=\"https://colab.research.google.com/github/mispelledname/ml_tutorials/blob/master/image_classification_practice.ipynb\" target=\"_parent\"><img src=\"https://colab.research.google.com/assets/colab-badge.svg\" alt=\"Open In Colab\"/></a>"
      ]
    },
    {
      "cell_type": "markdown",
      "metadata": {
        "id": "fMdlJGlwY2H9",
        "colab_type": "text"
      },
      "source": [
        "# **Classify handwritten digits**\n",
        "Practice image_classification on a different data set. "
      ]
    },
    {
      "cell_type": "markdown",
      "metadata": {
        "id": "quh2YNVVZa9Q",
        "colab_type": "text"
      },
      "source": [
        "**1. Import tensorflow and keras and other libraries.**"
      ]
    },
    {
      "cell_type": "code",
      "metadata": {
        "id": "pl8RGoDCEe-V",
        "colab_type": "code",
        "outputId": "0151e288-39e1-4926-afc9-30a874b9bf68",
        "colab": {
          "base_uri": "https://localhost:8080/",
          "height": 35
        }
      },
      "source": [
        "# TensorFlow and tf.keras\n",
        "import tensorflow as tf\n",
        "from tensorflow import keras\n",
        "\n",
        "# Helper libraries\n",
        "import numpy as np\n",
        "import matplotlib.pyplot as plt\n",
        "\n",
        "print(tf.__version__)"
      ],
      "execution_count": 1,
      "outputs": [
        {
          "output_type": "stream",
          "text": [
            "2.2.0-rc3\n"
          ],
          "name": "stdout"
        }
      ]
    },
    {
      "cell_type": "markdown",
      "metadata": {
        "id": "flts5etGZmV1",
        "colab_type": "text"
      },
      "source": [
        "**2. Load the data set.**"
      ]
    },
    {
      "cell_type": "code",
      "metadata": {
        "id": "2YZaYJRnYt9x",
        "colab_type": "code",
        "colab": {
          "base_uri": "https://localhost:8080/",
          "height": 52
        },
        "outputId": "325fc0c2-ea3b-4e2f-8e3f-4a8756048fd8"
      },
      "source": [
        "# Load the data\n",
        "raw_dataset = keras.datasets.mnist\n",
        "(train_images, train_labels), (test_images, test_labels) = raw_dataset.load_data()\n",
        "\n",
        "# inspect the data\n",
        "print(train_images.shape)\n",
        "print(test_images.shape)"
      ],
      "execution_count": 18,
      "outputs": [
        {
          "output_type": "stream",
          "text": [
            "(60000, 28, 28)\n",
            "(10000, 28, 28)\n"
          ],
          "name": "stdout"
        }
      ]
    },
    {
      "cell_type": "markdown",
      "metadata": {
        "id": "JDXtIMZFaXrC",
        "colab_type": "text"
      },
      "source": [
        "**3. Normalize the pixel values.**"
      ]
    },
    {
      "cell_type": "code",
      "metadata": {
        "id": "z_GU7-uhbCfz",
        "colab_type": "code",
        "colab": {}
      },
      "source": [
        "# View an image\n",
        "def view_image(i):\n",
        "  plt.figure()\n",
        "  plt.imshow(train_images[i], cmap=plt.cm.binary)\n",
        "  plt.xlabel(train_labels[i])\n",
        "  plt.colorbar()\n",
        "  plt.show()"
      ],
      "execution_count": 0,
      "outputs": []
    },
    {
      "cell_type": "code",
      "metadata": {
        "id": "5O0jaYimaXNX",
        "colab_type": "code",
        "colab": {
          "base_uri": "https://localhost:8080/",
          "height": 545
        },
        "outputId": "19de7b56-6c61-4abc-af77-bf1ad586e0b2"
      },
      "source": [
        "# View original image\n",
        "view_image(0)\n",
        "\n",
        "# Normalize the pixel values\n",
        "train_images = train_images / 255.0\n",
        "test_images = test_images / 255.0\n",
        "\n",
        "# View the normalized image\n",
        "view_image(0)"
      ],
      "execution_count": 20,
      "outputs": [
        {
          "output_type": "display_data",
          "data": {
            "image/png": "[encoded data removed]",
            "text/plain": [
              "<Figure size 432x288 with 2 Axes>"
            ]
          },
          "metadata": {
            "tags": [],
            "needs_background": "light"
          }
        },
        {
          "output_type": "display_data",
          "data": {
            "image/png": "[encoded data removed]",
            "text/plain": [
              "<Figure size 432x288 with 2 Axes>"
            ]
          },
          "metadata": {
            "tags": [],
            "needs_background": "light"
          }
        }
      ]
    },
    {
      "cell_type": "markdown",
      "metadata": {
        "id": "u5qIzQFxbyX4",
        "colab_type": "text"
      },
      "source": [
        "**4. Set up the layers of the model.**"
      ]
    },
    {
      "cell_type": "code",
      "metadata": {
        "id": "HEccefwib2vL",
        "colab_type": "code",
        "colab": {
          "base_uri": "https://localhost:8080/",
          "height": 260
        },
        "outputId": "3e950ee3-4c2c-4670-c94f-f830e9855a76"
      },
      "source": [
        "model = keras.Sequential([\n",
        "  keras.layers.Flatten(input_shape=(28,28)),\n",
        "  keras.layers.Dense(128, activation=\"relu\"),\n",
        "  keras.layers.Dense(10)\n",
        "])\n",
        "\n",
        "model.summary()"
      ],
      "execution_count": 22,
      "outputs": [
        {
          "output_type": "stream",
          "text": [
            "Model: \"sequential_1\"\n",
            "_________________________________________________________________\n",
            "Layer (type)                 Output Shape              Param #   \n",
            "=================================================================\n",
            "flatten_1 (Flatten)          (None, 784)               0         \n",
            "_________________________________________________________________\n",
            "dense_2 (Dense)              (None, 128)               100480    \n",
            "_________________________________________________________________\n",
            "dense_3 (Dense)              (None, 10)                1290      \n",
            "=================================================================\n",
            "Total params: 101,770\n",
            "Trainable params: 101,770\n",
            "Non-trainable params: 0\n",
            "_________________________________________________________________\n"
          ],
          "name": "stdout"
        }
      ]
    },
    {
      "cell_type": "markdown",
      "metadata": {
        "id": "Vl37jtlkcPxG",
        "colab_type": "text"
      },
      "source": [
        "**5. Compile the model.**"
      ]
    },
    {
      "cell_type": "code",
      "metadata": {
        "id": "nH15w4kHcXxZ",
        "colab_type": "code",
        "colab": {}
      },
      "source": [
        "model.compile(optimizer='adam',\n",
        "              loss=tf.keras.losses.SparseCategoricalCrossentropy(from_logits=True),\n",
        "              metrics=[\"accuracy\"])"
      ],
      "execution_count": 0,
      "outputs": []
    },
    {
      "cell_type": "markdown",
      "metadata": {
        "id": "IMyhOxO3czwa",
        "colab_type": "text"
      },
      "source": [
        "**6. Fit the model.**"
      ]
    },
    {
      "cell_type": "code",
      "metadata": {
        "id": "rngnXTMBc3cY",
        "colab_type": "code",
        "colab": {
          "base_uri": "https://localhost:8080/",
          "height": 381
        },
        "outputId": "f0b4eb57-af33-4fc6-b75a-37085a451979"
      },
      "source": [
        "model.fit(train_images, train_labels, epochs=10)"
      ],
      "execution_count": 25,
      "outputs": [
        {
          "output_type": "stream",
          "text": [
            "Epoch 1/10\n",
            "1875/1875 [==============================] - 3s 2ms/step - loss: 0.2588 - accuracy: 0.9265\n",
            "Epoch 2/10\n",
            "1875/1875 [==============================] - 3s 2ms/step - loss: 0.1136 - accuracy: 0.9663\n",
            "Epoch 3/10\n",
            "1875/1875 [==============================] - 3s 2ms/step - loss: 0.0789 - accuracy: 0.9761\n",
            "Epoch 4/10\n",
            "1875/1875 [==============================] - 3s 2ms/step - loss: 0.0590 - accuracy: 0.9819\n",
            "Epoch 5/10\n",
            "1875/1875 [==============================] - 3s 2ms/step - loss: 0.0451 - accuracy: 0.9855\n",
            "Epoch 6/10\n",
            "1875/1875 [==============================] - 3s 2ms/step - loss: 0.0365 - accuracy: 0.9885\n",
            "Epoch 7/10\n",
            "1875/1875 [==============================] - 3s 2ms/step - loss: 0.0283 - accuracy: 0.9909\n",
            "Epoch 8/10\n",
            "1875/1875 [==============================] - 3s 2ms/step - loss: 0.0227 - accuracy: 0.9932\n",
            "Epoch 9/10\n",
            "1875/1875 [==============================] - 3s 2ms/step - loss: 0.0193 - accuracy: 0.9942\n",
            "Epoch 10/10\n",
            "1875/1875 [==============================] - 3s 2ms/step - loss: 0.0161 - accuracy: 0.9947\n"
          ],
          "name": "stdout"
        },
        {
          "output_type": "execute_result",
          "data": {
            "text/plain": [
              "<tensorflow.python.keras.callbacks.History at 0x7f34d6edcb38>"
            ]
          },
          "metadata": {
            "tags": []
          },
          "execution_count": 25
        }
      ]
    },
    {
      "cell_type": "markdown",
      "metadata": {
        "id": "-0oe3XBHdLDp",
        "colab_type": "text"
      },
      "source": [
        "**7. Evaluate the model.**"
      ]
    },
    {
      "cell_type": "code",
      "metadata": {
        "id": "BomIe9sHdPCV",
        "colab_type": "code",
        "colab": {
          "base_uri": "https://localhost:8080/",
          "height": 52
        },
        "outputId": "e7ca4d68-3e3b-486d-c41b-c531635c7a05"
      },
      "source": [
        "model_loss, model_acc = model.evaluate(test_images, test_labels, verbose=2)\n",
        "print(\"Test accuracy: {:.4f}\".format(model_acc))"
      ],
      "execution_count": 31,
      "outputs": [
        {
          "output_type": "stream",
          "text": [
            "313/313 - 0s - loss: 0.0845 - accuracy: 0.9777\n",
            "Test accuracy: 0.9777\n"
          ],
          "name": "stdout"
        }
      ]
    },
    {
      "cell_type": "markdown",
      "metadata": {
        "id": "z9E5vtDudsy8",
        "colab_type": "text"
      },
      "source": [
        "**8. Add Softmax layer to convert logits into probabilities.**"
      ]
    },
    {
      "cell_type": "code",
      "metadata": {
        "id": "CVQ6fDK7dvhU",
        "colab_type": "code",
        "colab": {
          "base_uri": "https://localhost:8080/",
          "height": 225
        },
        "outputId": "3a8f2896-aeb0-48fd-96c1-136792cc61bc"
      },
      "source": [
        "prob_model = tf.keras.Sequential([model, \n",
        "                                  tf.keras.layers.Softmax()])\n",
        "\n",
        "prob_model.summary()"
      ],
      "execution_count": 33,
      "outputs": [
        {
          "output_type": "stream",
          "text": [
            "Model: \"sequential_2\"\n",
            "_________________________________________________________________\n",
            "Layer (type)                 Output Shape              Param #   \n",
            "=================================================================\n",
            "sequential_1 (Sequential)    (None, 10)                101770    \n",
            "_________________________________________________________________\n",
            "softmax (Softmax)            (None, 10)                0         \n",
            "=================================================================\n",
            "Total params: 101,770\n",
            "Trainable params: 101,770\n",
            "Non-trainable params: 0\n",
            "_________________________________________________________________\n"
          ],
          "name": "stdout"
        }
      ]
    },
    {
      "cell_type": "markdown",
      "metadata": {
        "id": "9BSJh34ReZqU",
        "colab_type": "text"
      },
      "source": [
        "**9. Make predictions.**"
      ]
    },
    {
      "cell_type": "code",
      "metadata": {
        "id": "tPLIUgNdecN2",
        "colab_type": "code",
        "colab": {}
      },
      "source": [
        "predictions = prob_model(test_images)"
      ],
      "execution_count": 0,
      "outputs": []
    },
    {
      "cell_type": "markdown",
      "metadata": {
        "id": "OEHVzxDOen23",
        "colab_type": "text"
      },
      "source": [
        "**10. Visualize the predictions.**"
      ]
    },
    {
      "cell_type": "code",
      "metadata": {
        "id": "Z3UjQl60eqh1",
        "colab_type": "code",
        "colab": {}
      },
      "source": [
        "def plot_image(i, predictions_array, true_label, img):\n",
        "  predictions_array, true_label, img = predictions_array, true_label[i], img[i]\n",
        "  plt.grid(False)\n",
        "  plt.xticks([])\n",
        "  plt.yticks([])\n",
        "\n",
        "  plt.imshow(img, cmap=plt.cm.binary)\n",
        "\n",
        "  predicted_label = np.argmax(predictions_array)\n",
        "  if predicted_label == true_label:\n",
        "    color = \"blue\"\n",
        "  else:\n",
        "    color = \"red\"\n",
        "\n",
        "  plt.xlabel(\"{} {:2.0f}% ({})\".format(predicted_label, \n",
        "                                       100*np.max(predictions_array),\n",
        "                                       true_label, \n",
        "                                       color=color))\n",
        "  \n",
        "def plot_value_array(i, predictions_array, true_label):\n",
        "  predictions_array, true_label = predictions_array, true_label[i]\n",
        "  plt.grid(False)\n",
        "  plt.xticks(range(10))\n",
        "  plt.yticks([])\n",
        "  thisplot = plt.bar(range(10), predictions_array, color=\"#777777\")\n",
        "  plt.ylim([0, 1])\n",
        "  predicted_label = np.argmax(predictions_array)\n",
        "\n",
        "  thisplot[predicted_label].set_color(\"red\")\n",
        "  thisplot[true_label].set_color(\"blue\")"
      ],
      "execution_count": 0,
      "outputs": []
    },
    {
      "cell_type": "code",
      "metadata": {
        "id": "tYK9WZgqeyn8",
        "colab_type": "code",
        "colab": {
          "base_uri": "https://localhost:8080/",
          "height": 729
        },
        "outputId": "db5b5f1e-01d3-41de-fed9-f355f2b1f756"
      },
      "source": [
        "num_rows = 5\n",
        "num_cols = 3\n",
        "num_images = num_rows*num_cols\n",
        "plt.figure(figsize=(2*2*num_cols, 2*num_rows))\n",
        "for i in range(num_images):\n",
        "  plt.subplot(num_rows, 2*num_cols, 2*i+1)\n",
        "  plot_image(i, predictions[i], test_labels, test_images)\n",
        "  plt.subplot(num_rows, 2*num_cols, 2*i+2)\n",
        "  plot_value_array(i, predictions[i], test_labels)\n",
        "plt.tight_layout()\n",
        "plt.show()"
      ],
      "execution_count": 43,
      "outputs": [
        {
          "output_type": "display_data",
          "data": {
            "image/png": "[encoded data removed]",
            "text/plain": [
              "<Figure size 864x720 with 30 Axes>"
            ]
          },
          "metadata": {
            "tags": [],
            "needs_background": "light"
          }
        }
      ]
    }
  ]
}